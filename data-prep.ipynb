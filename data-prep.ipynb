{
 "cells": [
  {
   "cell_type": "code",
   "execution_count": 568,
   "id": "a0606aae",
   "metadata": {},
   "outputs": [],
   "source": [
    "import json\n",
    "import glob\n",
    "import pandas as pd\n",
    "import seaborn as sns\n",
    "import matplotlib.pyplot as plt\n",
    "import numpy as np\n",
    "from random import shuffle\n",
    "import tensorflow as tf\n",
    "import tflearn\n",
    "from tflearn.layers.conv import conv_2d, max_pool_2d\n",
    "from tflearn.layers.core import input_data, dropout, fully_connected\n",
    "from tflearn.layers.estimator import regression\n",
    "import os\n",
    "import cv2"
   ]
  },
  {
   "cell_type": "code",
   "execution_count": 553,
   "id": "2d9aa4ee",
   "metadata": {},
   "outputs": [],
   "source": [
    "def label(file):\n",
    "    return [1,0] if file['meta']['clinical']['benign_malignant']=='benign' else [0,1]"
   ]
  },
  {
   "cell_type": "code",
   "execution_count": 554,
   "id": "c04b5396",
   "metadata": {},
   "outputs": [],
   "source": [
    "def relabel(arr):\n",
    "    if arr[1]==0 and arr[0]==1:\n",
    "        return 'benign'\n",
    "    elif arr[0]==0 and arr[1]==1:\n",
    "        return 'malignant'"
   ]
  },
  {
   "cell_type": "code",
   "execution_count": 1291,
   "id": "c214b67e",
   "metadata": {},
   "outputs": [],
   "source": [
    "data=[]\n",
    "\n",
    "#load data\n",
    "for path in [['benign/*.jpeg', 'b_desc/'],['malignant/*.jpeg', 'm_desc/']]:\n",
    "    for filepath in glob.iglob(path[0]):\n",
    "        sample=filepath.split('/')[-1].split('.jpeg')[0]\n",
    "        img=cv2.resize(cv2.imread(filepath,cv2.IMREAD_GRAYSCALE), (50,50))\n",
    "        with open(path[1]+sample) as json_file:\n",
    "            file=json.load(json_file)\n",
    "        data.append([np.array(img,dtype='float64'),np.array(label(file), dtype='uint8')])\n",
    "\n",
    "shuffle(data)\n",
    "data=np.array(data, dtype=object)\n",
    "train_data=np.array(data[:7000],dtype=object)\n",
    "test_data=np.array(data[7000:],dtype=object)"
   ]
  },
  {
   "cell_type": "code",
   "execution_count": 1292,
   "id": "d1c15e3c",
   "metadata": {},
   "outputs": [],
   "source": [
    "np.save('train_data.npy', train_data)\n",
    "np.save('test_data.npy',test_data)"
   ]
  },
  {
   "cell_type": "code",
   "execution_count": 666,
   "id": "b96c0bb8",
   "metadata": {},
   "outputs": [
    {
     "data": {
      "text/plain": [
       "<AxesSubplot:ylabel='count'>"
      ]
     },
     "execution_count": 666,
     "metadata": {},
     "output_type": "execute_result"
    },
    {
     "data": {
      "image/png": "[encoded data removed]",
      "text/plain": [
       "<Figure size 432x288 with 1 Axes>"
      ]
     },
     "metadata": {
      "needs_background": "light"
     },
     "output_type": "display_data"
    }
   ],
   "source": [
    "#split stats\n",
    "train=[relabel(i[1]) for i in train_data]\n",
    "test=[relabel(i[1]) for i in test_data]\n",
    "\n",
    "sns.countplot(x=train)"
   ]
  },
  {
   "cell_type": "code",
   "execution_count": 667,
   "id": "063b9a66",
   "metadata": {},
   "outputs": [
    {
     "data": {
      "text/plain": [
       "<AxesSubplot:ylabel='count'>"
      ]
     },
     "execution_count": 667,
     "metadata": {},
     "output_type": "execute_result"
    },
    {
     "data": {
      "image/png": "[encoded data removed]",
      "text/plain": [
       "<Figure size 432x288 with 1 Axes>"
      ]
     },
     "metadata": {
      "needs_background": "light"
     },
     "output_type": "display_data"
    }
   ],
   "source": [
    "sns.countplot(x=test)"
   ]
  },
  {
   "cell_type": "code",
   "execution_count": 1118,
   "id": "5cee88ed",
   "metadata": {},
   "outputs": [],
   "source": [
    "data=[]\n",
    "\n",
    "#load data\n",
    "for filepath in glob.iglob('uwaterloo_1/skin_data/melanoma/dermquest/*_orig.jpg'):\n",
    "    img=cv2.resize(cv2.imread(filepath,cv2.IMREAD_GRAYSCALE), (50,50))\n",
    "    data.append([np.array(img, dtype='float64'),np.array([0,1], dtype='uint8')])\n",
    "    \n",
    "for filepath in glob.iglob('uwaterloo_2/skin_data/notmelanoma/dermquest/*_orig.jpg'):\n",
    "    img=cv2.resize(cv2.imread(filepath,cv2.IMREAD_GRAYSCALE), (50,50))\n",
    "    data.append([np.array(img, dtype='float64'),np.array([1,0], dtype='uint8')])\n",
    "\n",
    "shuffle(data)\n",
    "data=np.array(data, dtype=object)\n",
    "np.save('uwaterloo_data.npy',data)"
   ]
  },
  {
   "cell_type": "code",
   "execution_count": 1119,
   "id": "ce63cc3f",
   "metadata": {},
   "outputs": [],
   "source": [
    "data=[]\n",
    "\n",
    "#load data\n",
    "for filepath in glob.iglob('complete_mednode_dataset/melanoma/*.jpg'):\n",
    "    img=cv2.resize(cv2.imread(filepath,cv2.IMREAD_GRAYSCALE), (50,50))\n",
    "    data.append([np.array(img, dtype='float64'),np.array([0,1], dtype='uint8')])\n",
    "    \n",
    "for filepath in glob.iglob('complete_mednode_dataset/naevus/*.jpg'):\n",
    "    img=cv2.resize(cv2.imread(filepath,cv2.IMREAD_GRAYSCALE), (50,50))\n",
    "    data.append([np.array(img, dtype='float64'),np.array([1,0], dtype='uint8')])\n",
    "shuffle(data)\n",
    "data=np.array(data, dtype=object)\n",
    "np.save('mednode_data.npy',data)"
   ]
  },
  {
   "cell_type": "code",
   "execution_count": 1296,
   "id": "3a958870",
   "metadata": {},
   "outputs": [],
   "source": [
    "shuffle(test_data)\n",
    "shuffle(train_data)"
   ]
  },
  {
   "cell_type": "code",
   "execution_count": 1334,
   "id": "bd55c805",
   "metadata": {},
   "outputs": [],
   "source": [
    "tf.compat.v1.reset_default_graph()\n",
    "\n",
    "# Real-time image preprocessing\n",
    "img_prep = tflearn.ImagePreprocessing()\n",
    "img_prep.add_featurewise_zero_center()\n",
    "img_prep.add_featurewise_stdnorm()\n",
    "\n",
    "# Real-time data augmentation\n",
    "img_aug = tflearn.ImageAugmentation()\n",
    "img_aug.add_random_flip_leftright()\n",
    "img_aug.add_random_90degrees_rotation()\n",
    "img_aug.add_random_blur()\n",
    "img_aug.add_random_flip_updown()\n",
    "img_aug.add_random_rotation()\n",
    "\n",
    "# Add these methods into an 'input_data' layer\n",
    "convnet = input_data(shape=[None, 50, 50, 1],\n",
    "                     data_preprocessing=img_prep,\n",
    "                     data_augmentation=img_aug,\n",
    "                     name ='input')\n",
    "\n",
    "# convnet = input_data(shape =[None, 50, 50, 1], name ='input')\n",
    "# convnet = conv_2d(convnet, 32, 5, activation ='relu')\n",
    "# convnet = max_pool_2d(convnet, 5)\n",
    "\n",
    "convnet = conv_2d(convnet, 16, 8, activation ='relu')\n",
    "convnet = max_pool_2d(convnet, 8)\n",
    "\n",
    "# convnet = conv_2d(convnet, 32, 8, activation ='relu')\n",
    "# convnet = max_pool_2d(convnet, 8)\n",
    "\n",
    "convnet = conv_2d(convnet, 2, 8, activation ='relu')\n",
    "convnet = max_pool_2d(convnet, 8)\n",
    "\n",
    "# convnet = conv_2d(convnet, 32, 8, activation ='relu')\n",
    "# convnet = max_pool_2d(convnet, 8)\n",
    "\n",
    "convnet = conv_2d(convnet, 16, 8, activation ='relu')\n",
    "convnet = max_pool_2d(convnet, 8)\n",
    "\n",
    "convnet = fully_connected(convnet, 256, activation ='relu')\n",
    "convnet = dropout(convnet, 0.8)\n",
    " \n",
    "convnet = fully_connected(convnet, 2, activation ='softmax')\n",
    "convnet = regression(convnet, optimizer ='adam', learning_rate = 1e-3,\n",
    "      loss ='categorical_crossentropy', name ='targets')\n",
    " \n",
    "model = tflearn.DNN(convnet, tensorboard_dir ='log')"
   ]
  },
  {
   "cell_type": "markdown",
   "id": "cc551844",
   "metadata": {},
   "source": [
    "# Test-train split"
   ]
  },
  {
   "cell_type": "code",
   "execution_count": 1335,
   "id": "85ff083b",
   "metadata": {},
   "outputs": [],
   "source": [
    "train_data = np.load('train_data.npy', allow_pickle=True)\n",
    "test_data = np.load('test_data.npy', allow_pickle=True)"
   ]
  },
  {
   "cell_type": "code",
   "execution_count": 1336,
   "id": "64955927",
   "metadata": {},
   "outputs": [
    {
     "name": "stdout",
     "output_type": "stream",
     "text": [
      "Training Step: 1099  | total loss: \u001b[1m\u001b[32m0.30435\u001b[0m\u001b[0m | time: 6.768s\n",
      "| Adam | epoch: 010 | loss: 0.30435 - acc: 0.8869 -- iter: 6976/7000\n",
      "Training Step: 1100  | total loss: \u001b[1m\u001b[32m0.30218\u001b[0m\u001b[0m | time: 7.896s\n",
      "| Adam | epoch: 010 | loss: 0.30218 - acc: 0.8888 | val_loss: 0.28631 - val_acc: 0.9039 -- iter: 7000/7000\n",
      "--\n"
     ]
    }
   ],
   "source": [
    "X = np.array([i[0] for i in train_data]).reshape(-1, 50, 50, 1)\n",
    "Y = [i[1] for i in train_data]\n",
    "test_x = np.array([i[0] for i in test_data]).reshape(-1, 50, 50, 1)\n",
    "test_y = [i[1] for i in test_data]\n",
    "\n",
    "# epoch = 5 taken\n",
    "model.fit({'input': X}, {'targets': Y}, n_epoch = 10,\n",
    "    validation_set =({'input': test_x}, {'targets': test_y}),\n",
    "    snapshot_step = 500, show_metric = True)"
   ]
  },
  {
   "cell_type": "code",
   "execution_count": 1337,
   "id": "f7a0b817",
   "metadata": {},
   "outputs": [
    {
     "data": {
      "text/plain": [
       "<AxesSubplot:>"
      ]
     },
     "execution_count": 1337,
     "metadata": {},
     "output_type": "execute_result"
    },
    {
     "data": {
      "image/png": "[encoded data removed]",
      "text/plain": [
       "<Figure size 432x288 with 2 Axes>"
      ]
     },
     "metadata": {
      "needs_background": "light"
     },
     "output_type": "display_data"
    }
   ],
   "source": [
    "predictions=[relabel(np.rint(list(model.predict([i[0].reshape(50, 50, 1)])))[0]) for i in test_data]\n",
    "labels=[relabel(i[1]) for i in test_data]\n",
    "tp=0\n",
    "tn=0\n",
    "fp=0\n",
    "fn=0\n",
    "for i,j in zip(labels,predictions):\n",
    "    if i==j=='benign':\n",
    "        tp+=1\n",
    "    elif i==j=='malignant':\n",
    "        tn+=1\n",
    "    elif i=='benign':\n",
    "        fn+=1\n",
    "    elif i=='malignant':\n",
    "        fp+=1\n",
    "df=pd.DataFrame([[tp,fp],[fn,tn]])\n",
    "sns.heatmap(df, annot=True, fmt='')"
   ]
  },
  {
   "cell_type": "markdown",
   "id": "3ac4332a",
   "metadata": {},
   "source": [
    "# Testing on UWaterloo data"
   ]
  },
  {
   "cell_type": "code",
   "execution_count": 1338,
   "id": "0c4183f7",
   "metadata": {},
   "outputs": [],
   "source": [
    "waterloo=np.load('uwaterloo_data.npy',allow_pickle=True)\n",
    "# train_data=np.concatenate((train_data,waterloo[:95]))\n",
    "# test_data=np.concatenate((test_data,waterloo[95:]))"
   ]
  },
  {
   "cell_type": "code",
   "execution_count": 1339,
   "id": "9acf9b1b",
   "metadata": {},
   "outputs": [
    {
     "data": {
      "text/plain": [
       "<AxesSubplot:>"
      ]
     },
     "execution_count": 1339,
     "metadata": {},
     "output_type": "execute_result"
    },
    {
     "data": {
      "image/png": "[encoded data removed]",
      "text/plain": [
       "<Figure size 432x288 with 2 Axes>"
      ]
     },
     "metadata": {
      "needs_background": "light"
     },
     "output_type": "display_data"
    }
   ],
   "source": [
    "predictions=[relabel(np.rint(list(model.predict([i[0].reshape(50, 50, 1)])))[0]) for i in waterloo]\n",
    "labels=[relabel(i[1]) for i in waterloo]\n",
    "tp=0\n",
    "tn=0\n",
    "fp=0\n",
    "fn=0\n",
    "for i,j in zip(labels,predictions):\n",
    "    if i==j=='benign':\n",
    "        tp+=1\n",
    "    elif i==j=='malignant':\n",
    "        tn+=1\n",
    "    elif i=='benign':\n",
    "        fn+=1\n",
    "    elif i=='malignant':\n",
    "        fp+=1\n",
    "\n",
    "df=pd.DataFrame([[tp,fp],[fn,tn]])\n",
    "sns.heatmap(df, annot=True, fmt='')"
   ]
  },
  {
   "cell_type": "markdown",
   "id": "0b354ea1",
   "metadata": {},
   "source": [
    "# Testing on MED-NODE data"
   ]
  },
  {
   "cell_type": "code",
   "execution_count": 1340,
   "id": "7b9008a9",
   "metadata": {},
   "outputs": [],
   "source": [
    "# np.save('mednode_data.npy', data)\n",
    "data=np.load('mednode_data.npy',allow_pickle=True)\n",
    "# train_data=np.concatenate((train_data,data[:119]))\n",
    "# test_data=np.concatenate((test_data,data[119:]))"
   ]
  },
  {
   "cell_type": "code",
   "execution_count": 1341,
   "id": "f6adb2d3",
   "metadata": {},
   "outputs": [
    {
     "data": {
      "text/plain": [
       "<AxesSubplot:>"
      ]
     },
     "execution_count": 1341,
     "metadata": {},
     "output_type": "execute_result"
    },
    {
     "data": {
      "image/png": "[encoded data removed]",
      "text/plain": [
       "<Figure size 432x288 with 2 Axes>"
      ]
     },
     "metadata": {
      "needs_background": "light"
     },
     "output_type": "display_data"
    }
   ],
   "source": [
    "predictions=[relabel(np.rint(list(model.predict([i[0].reshape(50, 50, 1)])))[0]) for i in data]\n",
    "labels=[relabel(i[1]) for i in data]\n",
    "tp=0\n",
    "tn=0\n",
    "fp=0\n",
    "fn=0\n",
    "for i,j in zip(labels,predictions):\n",
    "    if i==j=='benign':\n",
    "        tp+=1\n",
    "    elif i==j=='malignant':\n",
    "        tn+=1\n",
    "    elif i=='benign':\n",
    "        fn+=1\n",
    "    elif i=='malignant':\n",
    "        fp+=1\n",
    "\n",
    "df=pd.DataFrame([[tp,fp],[fn,tn]])\n",
    "sns.heatmap(df, annot=True, fmt='')"
   ]
  },
  {
   "cell_type": "markdown",
   "id": "646f02a8",
   "metadata": {},
   "source": [
    "# Batch training"
   ]
  },
  {
   "cell_type": "code",
   "execution_count": 191,
   "id": "a6c11ebb",
   "metadata": {},
   "outputs": [],
   "source": [
    "train_data = np.load('train_data.npy', allow_pickle=True)\n",
    "train_data=np.array_split(train_data,10)\n",
    "\n",
    "test_data = np.load('test_data.npy', allow_pickle=True)"
   ]
  },
  {
   "cell_type": "code",
   "execution_count": 195,
   "id": "b1d8b51d",
   "metadata": {
    "scrolled": true
   },
   "outputs": [
    {
     "name": "stdout",
     "output_type": "stream",
     "text": [
      "Training Step: 9899  | total loss: \u001b[1m\u001b[32m0.04952\u001b[0m\u001b[0m | time: 7.107s\n",
      "| Adam | epoch: 100 | loss: 0.04952 - acc: 0.9929 -- iter: 6272/6300\n",
      "Training Step: 9900  | total loss: \u001b[1m\u001b[32m0.04538\u001b[0m\u001b[0m | time: 8.177s\n",
      "| Adam | epoch: 100 | loss: 0.04538 - acc: 0.9936 | val_loss: 0.01960 - val_acc: 0.9957 -- iter: 6300/6300\n",
      "--\n"
     ]
    }
   ],
   "source": [
    "for exclude in range(10):\n",
    "    X = np.array([i[0] for j in range(10) if j!=exclude for i in train_data[j]]).reshape(-1, 50, 50, 1)\n",
    "    Y = [i[1] for j in range(10) if j!=exclude for i in train_data[j]]\n",
    "    test_x = np.array([i[0] for i in train_data[exclude]]).reshape(-1, 50, 50, 1)\n",
    "    test_y = [i[1] for i in train_data[exclude]]\n",
    "\n",
    "    # epoch = 5 taken\n",
    "    model.fit({'input': X}, {'targets': Y}, n_epoch = 10,\n",
    "        validation_set =({'input': test_x}, {'targets': test_y}),\n",
    "        snapshot_step = 500, show_metric = True)\n"
   ]
  },
  {
   "cell_type": "code",
   "execution_count": 260,
   "id": "6fd4881f",
   "metadata": {},
   "outputs": [
    {
     "data": {
      "text/plain": [
       "<AxesSubplot:>"
      ]
     },
     "execution_count": 260,
     "metadata": {},
     "output_type": "execute_result"
    },
    {
     "data": {
      "image/png": "[encoded data removed]",
      "text/plain": [
       "<Figure size 432x288 with 2 Axes>"
      ]
     },
     "metadata": {
      "needs_background": "light"
     },
     "output_type": "display_data"
    }
   ],
   "source": [
    "predictions=[relabel(np.rint(list(model.predict([i[0].reshape(50, 50, 1)])))[0]) for i in test_data]\n",
    "labels=[relabel(i[1]) for i in test_data]\n",
    "tp=0\n",
    "tn=0\n",
    "fp=0\n",
    "fn=0\n",
    "for i,j in zip(labels,predictions):\n",
    "    if i==j=='benign':\n",
    "        tp+=1\n",
    "    elif i==j=='malignant':\n",
    "        tn+=1\n",
    "    elif i=='benign':\n",
    "        fn+=1\n",
    "    elif i=='malignant':\n",
    "        fp+=1\n",
    "\n",
    "df=pd.DataFrame([[tp,fp],[fn,tn]])\n",
    "sns.heatmap(df, annot=True, fmt='')"
   ]
  },
  {
   "cell_type": "code",
   "execution_count": 200,
   "id": "6d5ebc79",
   "metadata": {},
   "outputs": [
    {
     "data": {
      "image/png": "[encoded data removed]",
      "text/plain": [
       "<Figure size 432x288 with 20 Axes>"
      ]
     },
     "metadata": {
      "needs_background": "light"
     },
     "output_type": "display_data"
    }
   ],
   "source": [
    "#check some predictions\n",
    "fig=plt.figure()\n",
    "for num, data in enumerate(test_data[:20]):\n",
    "    # benign: [1, 0]\n",
    "    # malignant: [0, 1]\n",
    "    \n",
    "    img_label = data[1]\n",
    "    img_data = data[0]\n",
    "    \n",
    "    y = fig.add_subplot(4, 5, num + 1)\n",
    "    orig = img_data\n",
    "    data = img_data.reshape(50, 50, 1)\n",
    " \n",
    "    model_out = model.predict([data])[0]\n",
    "     \n",
    "    if np.argmax(model_out) == 1: str_label ='Benign'\n",
    "    else: str_label='Malignant'\n",
    "    \n",
    "    y.imshow(orig, cmap ='gray')\n",
    "    plt.title(str_label)\n",
    "    y.axes.get_xaxis().set_visible(False)\n",
    "    y.axes.get_yaxis().set_visible(False)\n",
    "plt.tight_layout()"
   ]
  },
  {
   "cell_type": "markdown",
   "id": "928f389f",
   "metadata": {},
   "source": [
    "# Testing on more ISIC data"
   ]
  },
  {
   "cell_type": "code",
   "execution_count": 264,
   "id": "f6adf64b",
   "metadata": {},
   "outputs": [
    {
     "ename": "FileNotFoundError",
     "evalue": "[Errno 2] No such file or directory: 'ISIC-Archive-Downloader-master/Data/Images/ISIC_0005784'",
     "output_type": "error",
     "traceback": [
      "\u001b[0;31m---------------------------------------------------------------------------\u001b[0m",
      "\u001b[0;31mFileNotFoundError\u001b[0m                         Traceback (most recent call last)",
      "\u001b[0;32m<ipython-input-264-db6779dedd54>\u001b[0m in \u001b[0;36m<module>\u001b[0;34m\u001b[0m\n\u001b[1;32m      3\u001b[0m     \u001b[0msample\u001b[0m\u001b[0;34m=\u001b[0m\u001b[0mfilepath\u001b[0m\u001b[0;34m.\u001b[0m\u001b[0msplit\u001b[0m\u001b[0;34m(\u001b[0m\u001b[0;34m'/'\u001b[0m\u001b[0;34m)\u001b[0m\u001b[0;34m[\u001b[0m\u001b[0;34m-\u001b[0m\u001b[0;36m1\u001b[0m\u001b[0;34m]\u001b[0m\u001b[0;34m.\u001b[0m\u001b[0msplit\u001b[0m\u001b[0;34m(\u001b[0m\u001b[0;34m'.jpeg'\u001b[0m\u001b[0;34m)\u001b[0m\u001b[0;34m[\u001b[0m\u001b[0;36m0\u001b[0m\u001b[0;34m]\u001b[0m\u001b[0;34m\u001b[0m\u001b[0;34m\u001b[0m\u001b[0m\n\u001b[1;32m      4\u001b[0m     \u001b[0mimg\u001b[0m\u001b[0;34m=\u001b[0m\u001b[0mcv2\u001b[0m\u001b[0;34m.\u001b[0m\u001b[0mresize\u001b[0m\u001b[0;34m(\u001b[0m\u001b[0mcv2\u001b[0m\u001b[0;34m.\u001b[0m\u001b[0mimread\u001b[0m\u001b[0;34m(\u001b[0m\u001b[0mfilepath\u001b[0m\u001b[0;34m,\u001b[0m\u001b[0mcv2\u001b[0m\u001b[0;34m.\u001b[0m\u001b[0mIMREAD_GRAYSCALE\u001b[0m\u001b[0;34m)\u001b[0m\u001b[0;34m,\u001b[0m \u001b[0;34m(\u001b[0m\u001b[0;36m50\u001b[0m\u001b[0;34m,\u001b[0m\u001b[0;36m50\u001b[0m\u001b[0;34m)\u001b[0m\u001b[0;34m)\u001b[0m\u001b[0;34m\u001b[0m\u001b[0;34m\u001b[0m\u001b[0m\n\u001b[0;32m----> 5\u001b[0;31m     \u001b[0;32mwith\u001b[0m \u001b[0mopen\u001b[0m\u001b[0;34m(\u001b[0m\u001b[0;34m'ISIC-Archive-Downloader-master/Data/Images/'\u001b[0m\u001b[0;34m+\u001b[0m\u001b[0msample\u001b[0m\u001b[0;34m)\u001b[0m \u001b[0;32mas\u001b[0m \u001b[0mjson_file\u001b[0m\u001b[0;34m:\u001b[0m\u001b[0;34m\u001b[0m\u001b[0;34m\u001b[0m\u001b[0m\n\u001b[0m\u001b[1;32m      6\u001b[0m         \u001b[0mfile\u001b[0m\u001b[0;34m=\u001b[0m\u001b[0mjson\u001b[0m\u001b[0;34m.\u001b[0m\u001b[0mload\u001b[0m\u001b[0;34m(\u001b[0m\u001b[0mjson_file\u001b[0m\u001b[0;34m)\u001b[0m\u001b[0;34m\u001b[0m\u001b[0;34m\u001b[0m\u001b[0m\n\u001b[1;32m      7\u001b[0m     \u001b[0mdata\u001b[0m\u001b[0;34m.\u001b[0m\u001b[0mappend\u001b[0m\u001b[0;34m(\u001b[0m\u001b[0;34m[\u001b[0m\u001b[0mnp\u001b[0m\u001b[0;34m.\u001b[0m\u001b[0marray\u001b[0m\u001b[0;34m(\u001b[0m\u001b[0mimg\u001b[0m\u001b[0;34m)\u001b[0m\u001b[0;34m,\u001b[0m\u001b[0mnp\u001b[0m\u001b[0;34m.\u001b[0m\u001b[0marray\u001b[0m\u001b[0;34m(\u001b[0m\u001b[0mlabel\u001b[0m\u001b[0;34m(\u001b[0m\u001b[0mfile\u001b[0m\u001b[0;34m)\u001b[0m\u001b[0;34m)\u001b[0m\u001b[0;34m]\u001b[0m\u001b[0;34m)\u001b[0m\u001b[0;34m\u001b[0m\u001b[0;34m\u001b[0m\u001b[0m\n",
      "\u001b[0;31mFileNotFoundError\u001b[0m: [Errno 2] No such file or directory: 'ISIC-Archive-Downloader-master/Data/Images/ISIC_0005784'"
     ]
    }
   ],
   "source": [
    "data=[]\n",
    "for filepath in glob.iglob('ISIC-Archive-Downloader-master/Data/Images/*.jpeg'):\n",
    "    sample=filepath.split('/')[-1].split('.jpeg')[0]\n",
    "    img=cv2.resize(cv2.imread(filepath,cv2.IMREAD_GRAYSCALE), (50,50))\n",
    "    with open('ISIC-Archive-Downloader-master/Data/Descriptions/'+sample) as json_file:\n",
    "        file=json.load(json_file)\n",
    "    data.append([np.array(img),np.array(label(file))])\n",
    "\n",
    "data=np.array(data, dtype=object)"
   ]
  },
  {
   "cell_type": "code",
   "execution_count": 263,
   "id": "39cccf29",
   "metadata": {
    "scrolled": true
   },
   "outputs": [
    {
     "data": {
      "text/plain": [
       "<AxesSubplot:>"
      ]
     },
     "execution_count": 263,
     "metadata": {},
     "output_type": "execute_result"
    },
    {
     "data": {
      "image/png": "[encoded data removed]",
      "text/plain": [
       "<Figure size 432x288 with 2 Axes>"
      ]
     },
     "metadata": {
      "needs_background": "light"
     },
     "output_type": "display_data"
    }
   ],
   "source": [
    "predictions=[relabel(np.rint(list(model.predict([i[0].reshape(50, 50, 1)])))[0]) for i in data]\n",
    "labels=[relabel(i[1]) for i in data]\n",
    "tp=0\n",
    "tn=0\n",
    "fp=0\n",
    "fn=0\n",
    "for i,j in zip(labels,predictions):\n",
    "    if i==j=='benign':\n",
    "        tp+=1\n",
    "    elif i==j=='malignant':\n",
    "        tn+=1\n",
    "    elif i=='benign':\n",
    "        fn+=1\n",
    "    elif i=='malignant':\n",
    "        fp+=1\n",
    "\n",
    "df=pd.DataFrame([[tp,fp],[fn,tn]])\n",
    "sns.heatmap(df, annot=True, fmt='')"
   ]
  }
 ],
 "metadata": {
  "kernelspec": {
   "display_name": "Python 3",
   "language": "python",
   "name": "python3"
  },
  "language_info": {
   "codemirror_mode": {
    "name": "ipython",
    "version": 3
   },
   "file_extension": ".py",
   "mimetype": "text/x-python",
   "name": "python",
   "nbconvert_exporter": "python",
   "pygments_lexer": "ipython3",
   "version": "3.8.8"
  }
 },
 "nbformat": 4,
 "nbformat_minor": 5
}
