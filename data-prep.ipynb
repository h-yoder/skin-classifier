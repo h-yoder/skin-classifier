{
 "cells": [
  {
   "cell_type": "code",
   "execution_count": 136,
   "id": "a0606aae",
   "metadata": {},
   "outputs": [],
   "source": [
    "import json\n",
    "import glob\n",
    "import matplotlib.pyplot as plt\n",
    "import numpy as np\n",
    "from random import shuffle\n",
    "import tensorflow as tf\n",
    "import tflearn\n",
    "from tflearn.layers.conv import conv_2d, max_pool_2d\n",
    "from tflearn.layers.core import input_data, dropout, fully_connected\n",
    "from tflearn.layers.estimator import regression\n",
    "import os\n",
    "import cv2"
   ]
  },
  {
   "cell_type": "code",
   "execution_count": 137,
   "id": "2d9aa4ee",
   "metadata": {},
   "outputs": [],
   "source": [
    "def label(img_desc):\n",
    "    return [1,0] if file['meta']['clinical']['benign_malignant']=='benign' else [0,1]"
   ]
  },
  {
   "cell_type": "code",
   "execution_count": 138,
   "id": "6392179e",
   "metadata": {},
   "outputs": [],
   "source": [
    "def relabel(arr):\n",
    "    if arr[1]==0 and arr[0]==1:\n",
    "        return 'benign'\n",
    "    elif arr[0]==0 and arr[1]==1:\n",
    "        return 'malignant'"
   ]
  },
  {
   "cell_type": "code",
   "execution_count": 143,
   "id": "9221ac5e",
   "metadata": {},
   "outputs": [],
   "source": [
    "data=[]\n",
    "\n",
    "#load data\n",
    "for path in [['benign/*.jpeg', 'b_desc/'],['malignant/*.jpeg', 'm_desc/']]:\n",
    "    for filepath in glob.iglob(path[0]):\n",
    "        sample=filepath.split('/')[-1].split('.jpeg')[0]\n",
    "        img=cv2.resize(cv2.imread(filepath,cv2.IMREAD_GRAYSCALE), (50,50))\n",
    "        with open(path[1]+sample) as json_file:\n",
    "            file=json.load(json_file)\n",
    "        data.append([np.array(img),np.array(label(file))])\n",
    "\n",
    "shuffle(data)\n",
    "data=np.array(data, dtype=object)\n",
    "# train_data=np.array(data[:7000],dtype=object)\n",
    "# test_data=np.array(data[7000:],dtype=object)\n",
    "\n",
    "#k batch testing\n",
    "dataset=np.array_split(data,10)"
   ]
  },
  {
   "cell_type": "code",
   "execution_count": 144,
   "id": "b97282bb",
   "metadata": {},
   "outputs": [],
   "source": [
    "# np.save('train_data.npy', train_data)\n",
    "# np.save('test_data.npy',test_data)\n",
    "\n",
    "np.save('batch_dataset.npy',dataset)"
   ]
  },
  {
   "cell_type": "code",
   "execution_count": 175,
   "id": "db17f794",
   "metadata": {},
   "outputs": [],
   "source": [
    "tf.compat.v1.reset_default_graph()\n",
    "convnet = input_data(shape =[None, 50, 50, 1], name ='input')\n",
    " \n",
    "convnet = conv_2d(convnet, 32, 5, activation ='relu')\n",
    "convnet = max_pool_2d(convnet, 5)\n",
    " \n",
    "convnet = conv_2d(convnet, 64, 5, activation ='relu')\n",
    "convnet = max_pool_2d(convnet, 5)\n",
    " \n",
    "convnet = conv_2d(convnet, 128, 5, activation ='relu')\n",
    "convnet = max_pool_2d(convnet, 5)\n",
    " \n",
    "convnet = conv_2d(convnet, 64, 5, activation ='relu')\n",
    "convnet = max_pool_2d(convnet, 5)\n",
    " \n",
    "convnet = conv_2d(convnet, 32, 5, activation ='relu')\n",
    "convnet = max_pool_2d(convnet, 5)\n",
    " \n",
    "convnet = fully_connected(convnet, 1024, activation ='relu')\n",
    "convnet = dropout(convnet, 0.8)\n",
    " \n",
    "convnet = fully_connected(convnet, 2, activation ='softmax')\n",
    "convnet = regression(convnet, optimizer ='adam', learning_rate = 1e-3,\n",
    "      loss ='categorical_crossentropy', name ='targets')\n",
    " \n",
    "model = tflearn.DNN(convnet, tensorboard_dir ='log')"
   ]
  },
  {
   "cell_type": "markdown",
   "id": "52269116",
   "metadata": {},
   "source": [
    "# Test-train split"
   ]
  },
  {
   "cell_type": "code",
   "execution_count": 174,
   "id": "567d731f",
   "metadata": {},
   "outputs": [],
   "source": [
    "train_data = np.load('train_data.npy', allow_pickle=True)\n",
    "test_data = np.load('test_data.npy', allow_pickle=True)"
   ]
  },
  {
   "cell_type": "code",
   "execution_count": 176,
   "id": "fd806865",
   "metadata": {},
   "outputs": [
    {
     "name": "stdout",
     "output_type": "stream",
     "text": [
      "Training Step: 1099  | total loss: \u001b[1m\u001b[32m0.17927\u001b[0m\u001b[0m | time: 7.608s\n",
      "\u001b[2K\r",
      "| Adam | epoch: 010 | loss: 0.17927 - acc: 0.9395 -- iter: 6976/7000\n"
     ]
    },
    {
     "name": "stderr",
     "output_type": "stream",
     "text": [
      "Exception in thread Thread-759:\n",
      "Traceback (most recent call last):\n",
      "  File \"/Users/emilygan/opt/anaconda3/lib/python3.8/threading.py\", line 932, in _bootstrap_inner\n",
      "    self.run()\n",
      "  File \"/Users/emilygan/opt/anaconda3/lib/python3.8/threading.py\", line 870, in run\n",
      "    self._target(*self._args, **self._kwargs)\n",
      "  File \"/Users/emilygan/opt/anaconda3/lib/python3.8/site-packages/tflearn/data_flow.py\", line 187, in fill_feed_dict_queue\n",
      "    data = self.retrieve_data(batch_ids)\n",
      "  File \"/Users/emilygan/opt/anaconda3/lib/python3.8/site-packages/tflearn/data_flow.py\", line 222, in retrieve_data\n",
      "    utils.slice_array(self.feed_dict[key], batch_ids)\n",
      "  File \"/Users/emilygan/opt/anaconda3/lib/python3.8/site-packages/tflearn/utils.py\", line 204, in slice_array\n",
      "    return X[start]\n",
      "IndexError: index 999 is out of bounds for axis 0 with size 999\n"
     ]
    },
    {
     "name": "stdout",
     "output_type": "stream",
     "text": [
      "Training Step: 1100  | total loss: \u001b[1m\u001b[32m0.18174\u001b[0m\u001b[0m | time: 8.688s\n",
      "\u001b[2K\r",
      "| Adam | epoch: 010 | loss: 0.18174 - acc: 0.9378 | val_loss: 0.86015 - val_acc: 0.1585 -- iter: 7000/7000\n",
      "--\n"
     ]
    }
   ],
   "source": [
    "X = np.array([i[0] for i in train_data]).reshape(-1, 50, 50, 1)\n",
    "Y = [i[1] for i in train_data]\n",
    "test_x = np.array([i[0] for i in test_data]).reshape(-1, 50, 50, 1)\n",
    "test_y = [i[1] for i in dataset[exclude]]\n",
    "\n",
    "# epoch = 5 taken\n",
    "model.fit({'input': X}, {'targets': Y}, n_epoch = 10,\n",
    "    validation_set =({'input': test_x}, {'targets': test_y}),\n",
    "    snapshot_step = 500, show_metric = True)"
   ]
  },
  {
   "cell_type": "code",
   "execution_count": 177,
   "id": "76821f9f",
   "metadata": {},
   "outputs": [
    {
     "data": {
      "text/plain": [
       "<AxesSubplot:>"
      ]
     },
     "execution_count": 177,
     "metadata": {},
     "output_type": "execute_result"
    },
    {
     "data": {
      "image/png": "[encoded data removed]",
      "text/plain": [
       "<Figure size 432x288 with 2 Axes>"
      ]
     },
     "metadata": {
      "needs_background": "light"
     },
     "output_type": "display_data"
    }
   ],
   "source": [
    "predictions=[relabel(np.rint(list(model.predict([i[0].reshape(50, 50, 1)])))[0]) for i in test_data]\n",
    "labels=[relabel(i[1]) for i in test_data]\n",
    "tp=0\n",
    "tn=0\n",
    "fp=0\n",
    "fn=0\n",
    "for i,j in zip(labels,predictions):\n",
    "    if i==j=='benign':\n",
    "        tp+=1\n",
    "    elif i==j=='malignant':\n",
    "        tn+=1\n",
    "    elif i=='benign':\n",
    "        fn+=1\n",
    "    elif i=='malignant':\n",
    "        fp+=1\n",
    "df=pd.DataFrame([[tp/,fp],[fn,tn]])\n",
    "sns.heatmap(df, annot=True, fmt='')"
   ]
  },
  {
   "cell_type": "markdown",
   "id": "4c549b37",
   "metadata": {},
   "source": [
    "# Batch training"
   ]
  },
  {
   "cell_type": "code",
   "execution_count": 180,
   "id": "74d1f2b0",
   "metadata": {},
   "outputs": [],
   "source": [
    "dataset = np.load('batch_dataset.npy', allow_pickle=True)\n",
    "train_data=[i for j in range(9) for i in dataset[j]]\n",
    "test_data=[i for i in dataset[9]]"
   ]
  },
  {
   "cell_type": "code",
   "execution_count": 181,
   "id": "c85632ec",
   "metadata": {
    "scrolled": true
   },
   "outputs": [
    {
     "name": "stdout",
     "output_type": "stream",
     "text": [
      "Training Step: 13759  | total loss: \u001b[1m\u001b[32m0.07908\u001b[0m\u001b[0m | time: 8.481s\n",
      "| Adam | epoch: 110 | loss: 0.07908 - acc: 0.9898 -- iter: 8960/8997\n",
      "Training Step: 13760  | total loss: \u001b[1m\u001b[32m0.07321\u001b[0m\u001b[0m | time: 9.546s\n",
      "| Adam | epoch: 110 | loss: 0.07321 - acc: 0.9909 | val_loss: 3.99297 - val_acc: 0.4785 -- iter: 8997/8997\n",
      "--\n"
     ]
    }
   ],
   "source": [
    "for exclude in range(9):\n",
    "    X = np.array([i[0] for j in range(9) if j!=exclude for i in dataset[j]]).reshape(-1, 50, 50, 1)\n",
    "    Y = [i[1] for j in range(9) if j!=exclude for i in dataset[j]]\n",
    "    test_x = np.array([i[0] for i in dataset[exclude]]).reshape(-1, 50, 50, 1)\n",
    "    test_y = [i[1] for i in dataset[exclude]]\n",
    "\n",
    "    # epoch = 5 taken\n",
    "    model.fit({'input': X}, {'targets': Y}, n_epoch = 10,\n",
    "        validation_set =({'input': test_x}, {'targets': test_y}),\n",
    "        snapshot_step = 500, show_metric = True)\n",
    "\n",
    "X = np.array([i[0] for i in train_data]).reshape(-1, 50, 50, 1)\n",
    "Y = [i[1] for i in train_data]\n",
    "test_x = np.array([i[0] for i in test_data]).reshape(-1, 50, 50, 1)\n",
    "test_y = [i[1] for i in dataset[exclude]]\n",
    "\n",
    "# epoch = 5 taken\n",
    "model.fit({'input': X}, {'targets': Y}, n_epoch = 10,\n",
    "    validation_set =({'input': test_x}, {'targets': test_y}),\n",
    "    snapshot_step = 500, show_metric = True)"
   ]
  },
  {
   "cell_type": "code",
   "execution_count": 184,
   "id": "e2a715c6",
   "metadata": {},
   "outputs": [
    {
     "data": {
      "text/plain": [
       "<AxesSubplot:>"
      ]
     },
     "execution_count": 184,
     "metadata": {},
     "output_type": "execute_result"
    },
    {
     "data": {
      "image/png": "[encoded data removed]",
      "text/plain": [
       "<Figure size 432x288 with 2 Axes>"
      ]
     },
     "metadata": {
      "needs_background": "light"
     },
     "output_type": "display_data"
    }
   ],
   "source": [
    "predictions=[relabel(np.rint(list(model.predict([i[0].reshape(50, 50, 1)])))[0]) for i in test_data]\n",
    "labels=[relabel(i[1]) for i in test_data]\n",
    "tp=0\n",
    "tn=0\n",
    "fp=0\n",
    "fn=0\n",
    "for i,j in zip(labels,predictions):\n",
    "    if i==j=='benign':\n",
    "        tp+=1\n",
    "    elif i==j=='malignant':\n",
    "        tn+=1\n",
    "    elif i=='benign':\n",
    "        fn+=1\n",
    "    elif i=='malignant':\n",
    "        fp+=1\n",
    "\n",
    "df=pd.DataFrame([[tp,fp],[fn,tn]])\n",
    "sns.heatmap(df, annot=True, fmt='')"
   ]
  },
  {
   "cell_type": "code",
   "execution_count": 173,
   "id": "0380d22a",
   "metadata": {},
   "outputs": [
    {
     "ename": "IndentationError",
     "evalue": "unexpected indent (<ipython-input-173-441f37f798c4>, line 19)",
     "output_type": "error",
     "traceback": [
      "\u001b[0;36m  File \u001b[0;32m\"<ipython-input-173-441f37f798c4>\"\u001b[0;36m, line \u001b[0;32m19\u001b[0m\n\u001b[0;31m    ='Malignant'\u001b[0m\n\u001b[0m    ^\u001b[0m\n\u001b[0;31mIndentationError\u001b[0m\u001b[0;31m:\u001b[0m unexpected indent\n"
     ]
    }
   ],
   "source": [
    "#check some predictions\n",
    "fig=plt.figure()\n",
    "for num, data in enumerate(dataset[0][:20]):\n",
    "    # benign: [1, 0]\n",
    "    # malignant: [0, 1]\n",
    "    \n",
    "    img_label = data[1]\n",
    "    img_data = data[0]\n",
    "    \n",
    "    y = fig.add_subplot(4, 5, num + 1)\n",
    "    orig = img_data\n",
    "    data = img_data.reshape(50, 50, 1)\n",
    " \n",
    "    # model_out = model.predict([data])[0]\n",
    "    model_out = model.predict([img_data])\n",
    "     \n",
    "    if np.argmax(model_out) == 1: str_label ='Benign'\n",
    "    else: str_label='Malignant'\n",
    "    \n",
    "    y.imshow(orig, cmap ='gray')\n",
    "    plt.title(str_label)\n",
    "    y.axes.get_xaxis().set_visible(False)\n",
    "    y.axes.get_yaxis().set_visible(False)\n",
    "plt.tight_layout()"
   ]
  }
 ],
 "metadata": {
  "kernelspec": {
   "display_name": "Python 3",
   "language": "python",
   "name": "python3"
  },
  "language_info": {
   "codemirror_mode": {
    "name": "ipython",
    "version": 3
   },
   "file_extension": ".py",
   "mimetype": "text/x-python",
   "name": "python",
   "nbconvert_exporter": "python",
   "pygments_lexer": "ipython3",
   "version": "3.8.8"
  }
 },
 "nbformat": 4,
 "nbformat_minor": 5
}
